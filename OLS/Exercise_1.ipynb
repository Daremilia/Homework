{
 "cells": [
  {
   "cell_type": "code",
   "execution_count": 1,
   "metadata": {},
   "outputs": [],
   "source": [
    "# construct data\n",
    "import numpy as np\n",
    "\n",
    "N = 100\n",
    "\n",
    "y_vec = np.array(\n",
    "    [0.954, 0.8684, 0.6703, 0.7945, 0.9712, 0.7329, 0.9077, 0.7367, 0.8065, 0.7781, 0.8959, 0.7512, 0.8649, 0.7557,\n",
    "     0.618, 0.7855, 0.6699, 0.7555, 0.7692, 0.6222, 0.657, 0.8877, 0.6263, 0.5403, 0.4278, 0.8208, 0.8075, 0.939,\n",
    "     0.7615, 0.7656, 0.7345, 0.7416, 0.4402, 0.5502, 0.7604, 0.6579, 0.8247, 0.908, 0.7283, 0.7804, 0.8841, 0.5349,\n",
    "     0.8434, 0.8951, 0.556, 0.748, 0.9126, 0.8175, 0.7944,\n",
    "     0.8574, 0.8852, 0.6128, 0.5855, 0.7025, 0.6582, 0.8165, 0.5602, 0.9465, 0.9483, 0.7072, 0.6696, 0.7477, 0.7717,\n",
    "     0.99, 0.6089, 0.8327, 0.9308, 0.8284, 0.8994, 0.6158, 0.7557, 0.5064, 0.7373, 0.6663, 0.6433, 0.4213, 1.0303,\n",
    "     0.882, 0.7944, 0.9296, 0.7109, 0.8235, 0.6503, 0.5929, 0.7883, 1.0406, 0.7699, 0.728, 0.6912, 0.8138, 0.9727,\n",
    "     0.7418, 0.5176, 0.5268, 0.8396, 0.7443, 0.6977, 0.77, 0.9472, 0.6191]).reshape(N, 1)\n",
    "x0_vec = np.ones((N, 1))\n",
    "x1_vec = np.array(\n",
    "    [0.0873, 0.0847, 0.0796, 0.0881, 0.0794, 0.0788, 0.084, 0.0843, 0.0872, 0.0761, 0.0765, 0.089, 0.0846, 0.0828,\n",
    "     0.086, 0.0864, 0.0824, 0.0752, 0.0872, 0.0895, 0.078, 0.0851, 0.0779, 0.0889, 0.0888, 0.0795, 0.0827, 0.077,\n",
    "     0.0766, 0.0835, 0.0845, 0.0773, 0.0757, 0.0885, 0.0785, 0.082, 0.0817, 0.0898, 0.0784, 0.0771, 0.0802, 0.0833,\n",
    "     0.0882, 0.0769, 0.0803, 0.0775, 0.0897, 0.0891, 0.0797,\n",
    "     0.0754, 0.0864, 0.0758, 0.0872, 0.0778, 0.0807, 0.0817, 0.0829, 0.0861, 0.0822, 0.0765, 0.079, 0.0879, 0.0824,\n",
    "     0.0868, 0.0793, 0.0889, 0.0865, 0.083, 0.0852, 0.077, 0.0877, 0.0803, 0.0861, 0.0785, 0.0773, 0.0759, 0.0861,\n",
    "     0.089, 0.0812, 0.0896, 0.0801, 0.0804, 0.076, 0.0881, 0.084, 0.0835, 0.0791, 0.0864, 0.0841, 0.0828, 0.0764,\n",
    "     0.0791, 0.0762, 0.0755, 0.0783, 0.0895, 0.0794, 0.0819, 0.0852, 0.078]).reshape(N, 1)\n",
    "x2_vec = np.array(\n",
    "    [0.0514, 0.0411, 0.0531, 0.041, 0.0584, 0.0438, 0.0558, 0.0455, 0.0574, 0.0425, 0.0458, 0.0543, 0.0552, 0.0542,\n",
    "     0.0539, 0.058, 0.0541, 0.0557, 0.0466, 0.0438, 0.0495, 0.0561, 0.0463, 0.0464, 0.0429, 0.0533, 0.0526, 0.0472,\n",
    "     0.0483, 0.0471, 0.042, 0.0462, 0.0416, 0.0406, 0.045, 0.0472, 0.0578, 0.0533, 0.0539, 0.0469, 0.0553, 0.0438,\n",
    "     0.0416, 0.0409, 0.0403, 0.0403, 0.0475, 0.0555, 0.0468,\n",
    "     0.0545, 0.045, 0.0516, 0.0585, 0.051, 0.0569, 0.0578, 0.058, 0.0507, 0.0563, 0.0571, 0.0504, 0.0539, 0.0489, 0.059,\n",
    "     0.047, 0.0597, 0.0514, 0.0472, 0.0455, 0.0463, 0.0581, 0.0565, 0.0569, 0.0486, 0.0453, 0.0554, 0.0526, 0.0442,\n",
    "     0.0492, 0.0549, 0.0551, 0.0511, 0.0566, 0.0438, 0.0494, 0.0595, 0.0505, 0.0466, 0.0451, 0.0593, 0.054, 0.0532,\n",
    "     0.0485, 0.0576, 0.0525, 0.0507, 0.0544, 0.0565, 0.0452, 0.0436]).reshape(N, 1)\n",
    "\n",
    "x_li = [x0_vec, x1_vec, x2_vec]\n",
    "x_mat = np.hstack(x_li)\n"
   ]
  },
  {
   "cell_type": "code",
   "execution_count": 2,
   "metadata": {},
   "outputs": [],
   "source": [
    "# define some widely used procedures\n",
    "def get_coef(y, x, weight=1):\n",
    "    if type(weight).__name__ == \"int\":\n",
    "        return np.linalg.inv((x.T @ x)) @ (x.T @ y)\n",
    "    else:\n",
    "        weight = np.linalg.inv(weight)\n",
    "        return np.linalg.inv((x.T @ weight @ x)) @ x.T @ weight @ y\n",
    "\n",
    "\n",
    "def get_σ_head(y, x, weight=1):\n",
    "    β_head = get_coef(y, x, weight)\n",
    "    ϵ_head = y - x @ β_head\n",
    "    return np.sum(ϵ_head ** 2) / (len(y) - x.shape[1])\n",
    "\n",
    "\n",
    "def get_var(y, x, weight=1):\n",
    "    return get_σ_head(y, x) * np.linalg.inv((x.T @ x))\n",
    "\n",
    "\n",
    "def get_R2(y, x, weight=1):\n",
    "    β_head = get_coef(y, x, weight)\n",
    "    ϵ_head = y - x @ β_head\n",
    "    R2 = 1 - np.sum(ϵ_head ** 2) / np.sum((y - y.mean()) ** 2)\n",
    "    return R2\n",
    "\n",
    "\n",
    "def form_p_inv(ρ, size):\n",
    "    p_inv = np.zeros((size, size))\n",
    "    for ii in range(size):\n",
    "        p_inv[ii, ii] = 1\n",
    "    for ii in range(size - 1):\n",
    "        p_inv[ii + 1, ii] = -ρ\n",
    "    p_inv[0, 0] = (1 - ρ ** 2) ** 0.5\n",
    "    return p_inv\n",
    "\n",
    "\n",
    "def get_D(x_mat):\n",
    "    N = len(x_mat)\n",
    "    K = len(x_mat)\n",
    "    D_head = np.zeros((K,K))\n",
    "    for ii in range(len(x_mat)):\n",
    "        x_temp = x_mat[ii, :].reshape(3, 1)\n",
    "        D_head = D_head + ii.reshape(N,1)@ii.reshape(1,N)\n",
    "    \n",
    "    return D_head/N\n",
    "    "
   ]
  },
  {
   "cell_type": "code",
   "execution_count": 3,
   "metadata": {},
   "outputs": [
    {
     "name": "stdout",
     "output_type": "stream",
     "text": [
      "coef ::  [-0.04873909  6.78459429  4.87572311]\n",
      "se   ::  [0.26753713 2.93982926 2.36016671]\n"
     ]
    }
   ],
   "source": [
    "# question - a\n",
    "β_head = get_coef(y=y_vec, x=x_mat)\n",
    "print(\"coef :: \", β_head.reshape(3))\n",
    "\n",
    "β_var = get_var(y_vec, x_mat)\n",
    "print(\"se   :: \", np.diag(β_var) ** 0.5)\n"
   ]
  },
  {
   "cell_type": "code",
   "execution_count": 10,
   "metadata": {},
   "outputs": [
    {
     "name": "stdout",
     "output_type": "stream",
     "text": [
      "BP test    ::  0.0885410467863168\n",
      "0.0885 < 5.99, can not reject H0\n",
      "\n",
      "white test ::  11.471831995184878\n",
      "11.47 > 11.07, can reject H0\n",
      "\n"
     ]
    }
   ],
   "source": [
    "# question - b\n",
    "ϵ = y_vec - x_mat @ β_head\n",
    "ϵ_sq = ϵ**2\n",
    "R_sq_x = get_R2(ϵ_sq, x_mat)\n",
    "stat_x = N * R_sq_x\n",
    "print(\"BP test    :: \", stat_x)\n",
    "print(\"0.0885 < 5.99, can not reject H0\\n\")\n",
    "\n",
    "z_li = [x0_vec, x1_vec, x2_vec, x1_vec ** 2, x2_vec ** 2, x1_vec * x2_vec]\n",
    "z_mat = np.hstack(z_li)\n",
    "R_sq_z = get_R2(ϵ_sq, z_mat)\n",
    "stat_z = N * R_sq_z\n",
    "print(\"white test :: \", stat_z)\n",
    "print(\"11.47 > 11.07, can reject H0\\n\")\n"
   ]
  },
  {
   "cell_type": "code",
   "execution_count": 20,
   "metadata": {},
   "outputs": [
    {
     "name": "stdout",
     "output_type": "stream",
     "text": [
      "coef ::  [-0.07161156  7.0373877   4.91519513]\n",
      "se   ::  [0.27042107 2.95334187 2.38324851]\n"
     ]
    }
   ],
   "source": [
    "# question - c\n",
    "log_ϵ_sq = np.log(ϵ_sq)\n",
    "δ = get_coef(log_ϵ_sq, x_mat)\n",
    "Ω = np.diag(np.hstack([np.exp(x_mat[ii] @ δ) for ii in range(len(x_mat))]))\n",
    "P = np.linalg.cholesky(np.linalg.inv(Ω))\n",
    "y_vec_star = P@y_vec\n",
    "x_mat_star = P@x_mat\n",
    "β_FGLS = get_coef(y_vec_star, x_mat_star)\n",
    "β_var_FGLS = get_var(y_vec_star, x_mat_star)\n",
    "print(\"coef :: \", β_FGLS.reshape(3))\n",
    "print(\"se   :: \", np.diag(β_var_FGLS) ** 0.5)\n"
   ]
  },
  {
   "cell_type": "code",
   "execution_count": 21,
   "metadata": {},
   "outputs": [
    {
     "name": "stdout",
     "output_type": "stream",
     "text": [
      "HR-se ::  [0.27147034 3.21979192 2.60770714]\n"
     ]
    }
   ],
   "source": [
    "# question - d\n",
    "D_head = np.zeros((3, 3))\n",
    "Γ_head = np.zeros((3, 3))\n",
    "for ii in range(len(x_mat)):\n",
    "    x_temp = x_mat[ii, :].reshape(3, 1)\n",
    "    ϵ_temp = ϵ[ii]\n",
    "    D_head = D_head + x_temp @ x_temp.T\n",
    "    Γ_head = Γ_head + x_temp @ x_temp.T * ϵ_temp ** 2\n",
    "D_head = D_head / N\n",
    "D_head_inv = np.linalg.inv(D_head)\n",
    "Γ_head = Γ_head / N\n",
    "\n",
    "β_var_FGLS = D_head_inv @ Γ_head @ D_head_inv / N\n",
    "print(\"HR-se :: \", np.diag(β_var_FGLS) ** 0.5)\n"
   ]
  }
 ],
 "metadata": {
  "kernelspec": {
   "display_name": "Python 3",
   "language": "python",
   "name": "python3"
  },
  "language_info": {
   "codemirror_mode": {
    "name": "ipython",
    "version": 3
   },
   "file_extension": ".py",
   "mimetype": "text/x-python",
   "name": "python",
   "nbconvert_exporter": "python",
   "pygments_lexer": "ipython3",
   "version": "3.7.0"
  }
 },
 "nbformat": 4,
 "nbformat_minor": 2
}
